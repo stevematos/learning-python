{
 "cells": [
  {
   "cell_type": "markdown",
   "source": [
    "# OOP ( Object-Oriented Programming )"
   ],
   "metadata": {
    "collapsed": false,
    "pycharm": {
     "name": "#%% md\n"
    }
   }
  },
  {
   "cell_type": "markdown",
   "source": [
    "## Class"
   ],
   "metadata": {
    "collapsed": false
   }
  },
  {
   "cell_type": "code",
   "execution_count": 55,
   "outputs": [],
   "source": [
    "class Person:\n",
    "    def __init__(self, name, surname, age, is_married=False):\n",
    "        self.name = name\n",
    "        self.surname = surname\n",
    "        self.age = age\n",
    "        self.is_married = is_married\n",
    "\n",
    "    @property\n",
    "    def full_name(self):\n",
    "        return f\"{self.name} {self.surname}\"\n",
    "\n",
    "    def is_adult(self):\n",
    "        return self.age >= 18\n",
    "\n",
    "    def print_civil_status(self):\n",
    "        if self.is_married:\n",
    "            print('Is married')\n",
    "        else:\n",
    "            print('Is single')\n",
    "\n",
    "    def presentation(self):\n",
    "        return f\"I'm {self.name}\"\n",
    "\n",
    "person_john = Person(\"John\", \"Walker\",  is_married=True, age=31)"
   ],
   "metadata": {
    "collapsed": false,
    "pycharm": {
     "name": "#%%\n"
    }
   }
  },
  {
   "cell_type": "code",
   "execution_count": 56,
   "outputs": [
    {
     "name": "stdout",
     "output_type": "stream",
     "text": [
      "John\n"
     ]
    }
   ],
   "source": [
    "print(person_john.name)"
   ],
   "metadata": {
    "collapsed": false,
    "pycharm": {
     "name": "#%%\n"
    }
   }
  },
  {
   "cell_type": "code",
   "execution_count": 57,
   "outputs": [
    {
     "name": "stdout",
     "output_type": "stream",
     "text": [
      "John Walker\n"
     ]
    }
   ],
   "source": [
    "print(person_john.full_name)"
   ],
   "metadata": {
    "collapsed": false,
    "pycharm": {
     "name": "#%%\n"
    }
   }
  },
  {
   "cell_type": "code",
   "execution_count": 58,
   "outputs": [
    {
     "name": "stdout",
     "output_type": "stream",
     "text": [
      "True\n"
     ]
    }
   ],
   "source": [
    "print(person_john.is_adult())"
   ],
   "metadata": {
    "collapsed": false,
    "pycharm": {
     "name": "#%%\n"
    }
   }
  },
  {
   "cell_type": "code",
   "execution_count": 59,
   "outputs": [
    {
     "name": "stdout",
     "output_type": "stream",
     "text": [
      "Is married\n"
     ]
    }
   ],
   "source": [
    "person_john.print_civil_status()"
   ],
   "metadata": {
    "collapsed": false,
    "pycharm": {
     "name": "#%%\n"
    }
   }
  },
  {
   "cell_type": "code",
   "execution_count": 60,
   "outputs": [
    {
     "name": "stdout",
     "output_type": "stream",
     "text": [
      "I'm John\n"
     ]
    }
   ],
   "source": [
    "print(person_john.presentation())"
   ],
   "metadata": {
    "collapsed": false,
    "pycharm": {
     "name": "#%%\n"
    }
   }
  },
  {
   "cell_type": "markdown",
   "source": [
    "## Inheritance"
   ],
   "metadata": {
    "collapsed": false,
    "pycharm": {
     "name": "#%% md\n"
    }
   }
  },
  {
   "cell_type": "code",
   "execution_count": 61,
   "outputs": [],
   "source": [
    "class Professional(Person):\n",
    "    def __init__(self, name, surname, age, profession, is_married=False):\n",
    "       super().__init__(name, surname, age, is_married)\n",
    "       self.profession = profession\n",
    "\n",
    "    def presentation(self):\n",
    "        connector = \"a\"\n",
    "        if self.profession[0] == \"a\":\n",
    "            connector = \"an\"\n",
    "        return f\"I'm {self.name} and I'm {connector} {self.profession}\"\n",
    "\n",
    "professional_juan = Professional(\n",
    "                        name=\"Juan\",\n",
    "                        surname=\"Raymundo\",\n",
    "                        age=25,\n",
    "                        profession=\"archaeologist\",\n",
    "                        is_married=False\n",
    "                    )"
   ],
   "metadata": {
    "collapsed": false,
    "pycharm": {
     "name": "#%%\n"
    }
   }
  },
  {
   "cell_type": "code",
   "execution_count": 62,
   "outputs": [
    {
     "name": "stdout",
     "output_type": "stream",
     "text": [
      "Juan Raymundo\n"
     ]
    }
   ],
   "source": [
    "print(professional_juan.full_name)"
   ],
   "metadata": {
    "collapsed": false,
    "pycharm": {
     "name": "#%%\n"
    }
   }
  },
  {
   "cell_type": "code",
   "execution_count": 63,
   "outputs": [
    {
     "name": "stdout",
     "output_type": "stream",
     "text": [
      "True\n"
     ]
    }
   ],
   "source": [
    "print(professional_juan.is_adult())"
   ],
   "metadata": {
    "collapsed": false,
    "pycharm": {
     "name": "#%%\n"
    }
   }
  },
  {
   "cell_type": "code",
   "execution_count": 64,
   "outputs": [
    {
     "name": "stdout",
     "output_type": "stream",
     "text": [
      "I'm Juan and I'm an archaeologist\n"
     ]
    }
   ],
   "source": [
    "print(professional_juan.presentation())"
   ],
   "metadata": {
    "collapsed": false,
    "pycharm": {
     "name": "#%%\n"
    }
   }
  },
  {
   "cell_type": "markdown",
   "source": [
    "# Multiple Inheritance"
   ],
   "metadata": {
    "collapsed": false,
    "pycharm": {
     "name": "#%% md\n"
    }
   }
  },
  {
   "cell_type": "code",
   "execution_count": 65,
   "outputs": [],
   "source": [
    "class Worker:\n",
    "    def __init__(self, title, pay):\n",
    "        self.title = title\n",
    "        self.pay = pay\n",
    "\n",
    "    def presentation(self):\n",
    "        connector = \"a\"\n",
    "        if self.title[0] == \"a\":\n",
    "            connector = \"an\"\n",
    "        return f\"I'm {connector} {self.title} and I earn {self.pay}\"\n",
    "\n",
    "class TeamMember:\n",
    "    def __init__(self, project):\n",
    "        self.project = project\n",
    "\n",
    "    def presentation_team(self):\n",
    "        return f\"I'm from the {self.project} project\"\n",
    "\n",
    "class TeamLeader(TeamMember, Worker):\n",
    "    def __init__(self, title, pay, project, team):\n",
    "        TeamMember.__init__(self, project)\n",
    "        Worker.__init__(self, title, pay)\n",
    "        self.team = team\n",
    "\n",
    "    def _project_team(self):\n",
    "        return f\"the {self.team} team in the {self.project} project\"\n",
    "\n",
    "    def presentation(self):\n",
    "        presentation_worker = Worker.presentation(self)\n",
    "        return f\"{presentation_worker}. I belong to {self._project_team()}\"\n",
    "\n",
    "team_leader_pedro = TeamLeader('Salesman', '10000', 'Acquisition' , 'Auspices')"
   ],
   "metadata": {
    "collapsed": false,
    "pycharm": {
     "name": "#%%\n"
    }
   }
  },
  {
   "cell_type": "code",
   "execution_count": 66,
   "outputs": [
    {
     "name": "stdout",
     "output_type": "stream",
     "text": [
      "I'm a Salesman and I earn 10000. I belong to the Auspices team in the Acquisition project\n"
     ]
    }
   ],
   "source": [
    "print(team_leader_pedro.presentation())"
   ],
   "metadata": {
    "collapsed": false,
    "pycharm": {
     "name": "#%%\n"
    }
   }
  },
  {
   "cell_type": "code",
   "execution_count": 67,
   "outputs": [
    {
     "name": "stdout",
     "output_type": "stream",
     "text": [
      "I'm from the Acquisition project\n"
     ]
    }
   ],
   "source": [
    "print(team_leader_pedro.presentation_team())"
   ],
   "metadata": {
    "collapsed": false,
    "pycharm": {
     "name": "#%%\n"
    }
   }
  }
 ],
 "metadata": {
  "kernelspec": {
   "display_name": "Python 3",
   "language": "python",
   "name": "python3"
  },
  "language_info": {
   "codemirror_mode": {
    "name": "ipython",
    "version": 2
   },
   "file_extension": ".py",
   "mimetype": "text/x-python",
   "name": "python",
   "nbconvert_exporter": "python",
   "pygments_lexer": "ipython2",
   "version": "2.7.6"
  }
 },
 "nbformat": 4,
 "nbformat_minor": 0
}