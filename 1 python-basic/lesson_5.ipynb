{
 "cells": [
  {
   "cell_type": "markdown",
   "source": [
    "# Conditionals"
   ],
   "metadata": {
    "collapsed": false,
    "pycharm": {
     "name": "#%% md\n"
    }
   }
  },
  {
   "cell_type": "code",
   "execution_count": 6,
   "outputs": [
    {
     "name": "stdout",
     "output_type": "stream",
     "text": [
      "Adult\n"
     ]
    }
   ],
   "source": [
    "# conditional \"if\"\n",
    "age = 24\n",
    "\n",
    "# is adult in Peru\n",
    "if age > 18:\n",
    "    print('Adult')"
   ],
   "metadata": {
    "collapsed": false,
    "pycharm": {
     "name": "#%%\n"
    }
   }
  },
  {
   "cell_type": "code",
   "execution_count": 7,
   "outputs": [
    {
     "name": "stdout",
     "output_type": "stream",
     "text": [
      "Other person\n"
     ]
    }
   ],
   "source": [
    "# conditional \"else\"\n",
    "name = \"Juan\"\n",
    "\n",
    "# is adult in Peru\n",
    "if name == 'Johnny':\n",
    "    print(\"I'm Johnny\")\n",
    "else:\n",
    "    print(\"Other person\")"
   ],
   "metadata": {
    "collapsed": false,
    "pycharm": {
     "name": "#%%\n"
    }
   }
  },
  {
   "cell_type": "code",
   "execution_count": 8,
   "outputs": [
    {
     "name": "stdout",
     "output_type": "stream",
     "text": [
      "fat\n"
     ]
    }
   ],
   "source": [
    "# conditional \"elif\"\n",
    "weight_in_kg = 89\n",
    "\n",
    "# is adult in Peru\n",
    "if weight_in_kg < 70:\n",
    "    print(\"thin\")\n",
    "elif weight_in_kg < 80:\n",
    "    print(\"normal\")\n",
    "else:\n",
    "    print(\"fat\")"
   ],
   "metadata": {
    "collapsed": false,
    "pycharm": {
     "name": "#%%\n"
    }
   }
  }
 ],
 "metadata": {
  "kernelspec": {
   "display_name": "Python 3",
   "language": "python",
   "name": "python3"
  },
  "language_info": {
   "codemirror_mode": {
    "name": "ipython",
    "version": 2
   },
   "file_extension": ".py",
   "mimetype": "text/x-python",
   "name": "python",
   "nbconvert_exporter": "python",
   "pygments_lexer": "ipython2",
   "version": "2.7.6"
  }
 },
 "nbformat": 4,
 "nbformat_minor": 0
}