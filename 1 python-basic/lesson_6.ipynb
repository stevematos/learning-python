{
 "cells": [
  {
   "cell_type": "markdown",
   "source": [
    "# Loops"
   ],
   "metadata": {
    "collapsed": false,
    "pycharm": {
     "name": "#%% md\n"
    }
   }
  },
  {
   "cell_type": "code",
   "execution_count": 22,
   "outputs": [
    {
     "name": "stdout",
     "output_type": "stream",
     "text": [
      "18\n"
     ]
    }
   ],
   "source": [
    "# While Loop\n",
    "age = 15\n",
    "\n",
    "while age < 18:\n",
    "    age += 1 # age = age + 1\n",
    "print(age)"
   ],
   "metadata": {
    "collapsed": false,
    "pycharm": {
     "name": "#%%\n"
    }
   }
  },
  {
   "cell_type": "code",
   "execution_count": 23,
   "outputs": [
    {
     "name": "stdout",
     "output_type": "stream",
     "text": [
      "0\n",
      "1\n",
      "2\n",
      "3\n",
      "4\n",
      "5\n",
      "6\n",
      "7\n",
      "8\n",
      "9\n"
     ]
    }
   ],
   "source": [
    "# For(i) Loop\n",
    "\n",
    "for i in range(10):\n",
    "    print(i)"
   ],
   "metadata": {
    "collapsed": false,
    "pycharm": {
     "name": "#%%\n"
    }
   }
  },
  {
   "cell_type": "code",
   "execution_count": 24,
   "outputs": [
    {
     "name": "stdout",
     "output_type": "stream",
     "text": [
      "Joel\n",
      "Fernanda\n",
      "Miguel Ignacio\n",
      "Raul\n",
      "Nicolas\n"
     ]
    }
   ],
   "source": [
    "# For(each) Loop\n",
    "list_character = ['Joel', 'Fernanda', 'Miguel Ignacio', 'Raul', 'Nicolas']\n",
    "\n",
    "for character in list_character:\n",
    "    print(character)"
   ],
   "metadata": {
    "collapsed": false,
    "pycharm": {
     "name": "#%%\n"
    }
   }
  },
  {
   "cell_type": "markdown",
   "source": [
    "## Extra"
   ],
   "metadata": {
    "collapsed": false,
    "pycharm": {
     "name": "#%% md\n"
    }
   }
  },
  {
   "cell_type": "code",
   "execution_count": 25,
   "outputs": [
    {
     "name": "stdout",
     "output_type": "stream",
     "text": [
      "cat\n",
      "dog\n"
     ]
    }
   ],
   "source": [
    "# break\n",
    "list_pets = ['cat', 'dog', 'lion', 'rabbit']\n",
    "\n",
    "for pet in list_pets:\n",
    "    if pet == 'lion':\n",
    "        break\n",
    "    print(pet)"
   ],
   "metadata": {
    "collapsed": false,
    "pycharm": {
     "name": "#%%\n"
    }
   }
  },
  {
   "cell_type": "code",
   "execution_count": 26,
   "outputs": [
    {
     "name": "stdout",
     "output_type": "stream",
     "text": [
      "Batman\n",
      "Toy Story\n",
      "Avengers\n"
     ]
    }
   ],
   "source": [
    "# continue\n",
    "list_movies = ['Batman', 'Toy Story', 'La Casa de Papel', 'Avengers']\n",
    "\n",
    "for movie in list_movies:\n",
    "    if movie == 'La Casa de Papel':\n",
    "        continue\n",
    "    print(movie)"
   ],
   "metadata": {
    "collapsed": false,
    "pycharm": {
     "name": "#%%\n"
    }
   }
  }
 ],
 "metadata": {
  "kernelspec": {
   "display_name": "Python 3",
   "language": "python",
   "name": "python3"
  },
  "language_info": {
   "codemirror_mode": {
    "name": "ipython",
    "version": 2
   },
   "file_extension": ".py",
   "mimetype": "text/x-python",
   "name": "python",
   "nbconvert_exporter": "python",
   "pygments_lexer": "ipython2",
   "version": "2.7.6"
  }
 },
 "nbformat": 4,
 "nbformat_minor": 0
}