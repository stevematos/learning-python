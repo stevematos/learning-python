{
 "cells": [
  {
   "cell_type": "markdown",
   "source": [
    "# Functional programming"
   ],
   "metadata": {
    "collapsed": false,
    "pycharm": {
     "name": "#%% md\n"
    }
   }
  },
  {
   "cell_type": "markdown",
   "source": [
    "## Map"
   ],
   "metadata": {
    "collapsed": false,
    "pycharm": {
     "name": "#%% md\n"
    }
   }
  },
  {
   "cell_type": "code",
   "execution_count": 66,
   "outputs": [
    {
     "name": "stdout",
     "output_type": "stream",
     "text": [
      "[2, 4, 6, 8, 10]\n"
     ]
    }
   ],
   "source": [
    "# without map\n",
    "\n",
    "list_numbers = [1,2,3,4,5]\n",
    "\n",
    "list_result = []\n",
    "for number in list_numbers:\n",
    "    list_result.append(number*2)\n",
    "\n",
    "print(list_result)"
   ],
   "metadata": {
    "collapsed": false,
    "pycharm": {
     "name": "#%%\n"
    }
   }
  },
  {
   "cell_type": "code",
   "execution_count": 67,
   "outputs": [
    {
     "name": "stdout",
     "output_type": "stream",
     "text": [
      "<map object at 0x7f1fb214aa30>\n",
      "[2, 4, 6, 8, 10]\n"
     ]
    }
   ],
   "source": [
    "# with map\n",
    "\n",
    "def multiply_by_two(x):\n",
    "    return x * 2\n",
    "\n",
    "map_result = map(multiply_by_two, list_numbers)\n",
    "\n",
    "print(map_result)\n",
    "\n",
    "print(list(map(multiply_by_two, list_numbers)))"
   ],
   "metadata": {
    "collapsed": false,
    "pycharm": {
     "name": "#%%\n"
    }
   }
  },
  {
   "cell_type": "code",
   "execution_count": 68,
   "outputs": [
    {
     "name": "stdout",
     "output_type": "stream",
     "text": [
      "[2, 4, 6, 8, 10]\n"
     ]
    }
   ],
   "source": [
    "# with map and lambda\n",
    "map_result = map(lambda x: 2*x, list_numbers)\n",
    "\n",
    "print(list(map_result))"
   ],
   "metadata": {
    "collapsed": false,
    "pycharm": {
     "name": "#%%\n"
    }
   }
  },
  {
   "cell_type": "markdown",
   "source": [
    "## Filter"
   ],
   "metadata": {
    "collapsed": false,
    "pycharm": {
     "name": "#%% md\n"
    }
   }
  },
  {
   "cell_type": "code",
   "execution_count": 69,
   "outputs": [
    {
     "name": "stdout",
     "output_type": "stream",
     "text": [
      "[4, 16, 8]\n"
     ]
    }
   ],
   "source": [
    "# with filter\n",
    "list_numbers = [7, 4, 16, 3, 8]\n",
    "\n",
    "def is_pair(x):\n",
    "    return x % 2 == 0\n",
    "\n",
    "pares = filter(is_pair, list_numbers)\n",
    "\n",
    "print(list(pares))"
   ],
   "metadata": {
    "collapsed": false,
    "pycharm": {
     "name": "#%%\n"
    }
   }
  },
  {
   "cell_type": "code",
   "execution_count": 70,
   "outputs": [
    {
     "name": "stdout",
     "output_type": "stream",
     "text": [
      "[4, 16, 8]\n"
     ]
    }
   ],
   "source": [
    "# with filter and lambda\n",
    "list_pair = filter(lambda x: x % 2 == 0, list_numbers)\n",
    "\n",
    "print(list(list_pair))"
   ],
   "metadata": {
    "collapsed": false,
    "pycharm": {
     "name": "#%%\n"
    }
   }
  },
  {
   "cell_type": "markdown",
   "source": [
    "## Reduce"
   ],
   "metadata": {
    "collapsed": false,
    "pycharm": {
     "name": "#%% md\n"
    }
   }
  },
  {
   "cell_type": "code",
   "execution_count": 71,
   "outputs": [
    {
     "name": "stdout",
     "output_type": "stream",
     "text": [
      "15\n"
     ]
    }
   ],
   "source": [
    "# with reduce\n",
    "from functools import reduce\n",
    "\n",
    "list_numbers = [1,2,3,4,5]\n",
    "\n",
    "def sum_numbers(acc, val):\n",
    "    return acc + val\n",
    "\n",
    "result = reduce(sum_numbers, list_numbers)\n",
    "\n",
    "print(result)"
   ],
   "metadata": {
    "collapsed": false,
    "pycharm": {
     "name": "#%%\n"
    }
   }
  },
  {
   "cell_type": "code",
   "execution_count": 72,
   "outputs": [
    {
     "name": "stdout",
     "output_type": "stream",
     "text": [
      "15\n"
     ]
    }
   ],
   "source": [
    "# with reduce and lambda\n",
    "result = reduce(lambda acc, val: acc + val, list_numbers)\n",
    "\n",
    "print(result)"
   ],
   "metadata": {
    "collapsed": false,
    "pycharm": {
     "name": "#%%\n"
    }
   }
  },
  {
   "cell_type": "code",
   "execution_count": 73,
   "outputs": [
    {
     "name": "stdout",
     "output_type": "stream",
     "text": [
      "106.62\n"
     ]
    }
   ],
   "source": [
    "# case real\n",
    "from functools import reduce\n",
    "users = [\n",
    "    {'Name': 'Steve', 'Amount': 31.5},\n",
    "    {'Name': 'Juan', 'Amount': 32},\n",
    "    {'Name': 'Carlos', 'Amount': 43.12}\n",
    "]\n",
    "amount_total = reduce(lambda total, u: total + u['Amount'], users, 0)\n",
    "print(amount_total)"
   ],
   "metadata": {
    "collapsed": false,
    "pycharm": {
     "name": "#%%\n"
    }
   }
  }
 ],
 "metadata": {
  "kernelspec": {
   "display_name": "Python 3",
   "language": "python",
   "name": "python3"
  },
  "language_info": {
   "codemirror_mode": {
    "name": "ipython",
    "version": 2
   },
   "file_extension": ".py",
   "mimetype": "text/x-python",
   "name": "python",
   "nbconvert_exporter": "python",
   "pygments_lexer": "ipython2",
   "version": "2.7.6"
  }
 },
 "nbformat": 4,
 "nbformat_minor": 0
}