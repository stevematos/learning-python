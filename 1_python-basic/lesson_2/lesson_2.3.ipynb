{
 "cells": [
  {
   "cell_type": "markdown",
   "source": [
    "# Data structures Non-Primitive"
   ],
   "metadata": {
    "collapsed": false
   }
  },
  {
   "cell_type": "code",
   "source": [
    "# dict\n",
    "data_speaker = {\n",
    "    'name': 'Steve',\n",
    "    'surname': 'Matos Manguinuri',\n",
    "    'age': 24,\n",
    "    'is_married': False,\n",
    "    'tall_in_meters': 1.73\n",
    "}"
   ],
   "metadata": {
    "collapsed": false,
    "pycharm": {
     "name": "#%%\n"
    }
   },
   "execution_count": 44,
   "outputs": []
  },
  {
   "cell_type": "code",
   "source": [
    "# get name\n",
    "print(data_speaker['name'])"
   ],
   "metadata": {
    "collapsed": false,
    "pycharm": {
     "name": "#%%\n"
    }
   },
   "execution_count": 45,
   "outputs": [
    {
     "name": "stdout",
     "output_type": "stream",
     "text": [
      "Steve\n"
     ]
    }
   ]
  },
  {
   "cell_type": "code",
   "execution_count": 46,
   "outputs": [
    {
     "name": "stdout",
     "output_type": "stream",
     "text": [
      "Steve\n"
     ]
    }
   ],
   "source": [
    "# get name with function get()\n",
    "print(data_speaker.get('name'))"
   ],
   "metadata": {
    "collapsed": false,
    "pycharm": {
     "name": "#%%\n"
    }
   }
  },
  {
   "cell_type": "code",
   "execution_count": 47,
   "outputs": [
    {
     "name": "stdout",
     "output_type": "stream",
     "text": [
      "no_peruvian\n"
     ]
    }
   ],
   "source": [
    "# get value with a key that does not exist\n",
    "print(data_speaker.get('is_peruvian', 'no_peruvian'))"
   ],
   "metadata": {
    "collapsed": false,
    "pycharm": {
     "name": "#%%\n"
    }
   }
  },
  {
   "cell_type": "code",
   "execution_count": 48,
   "outputs": [
    {
     "name": "stdout",
     "output_type": "stream",
     "text": [
      "{'name': 'Steve', 'surname': 'Matos Manguinuri', 'age': 24, 'is_married': False, 'tall_in_meters': 1.73, 'is_programmer': False}\n"
     ]
    }
   ],
   "source": [
    "# add (key: value)\n",
    "data_speaker['is_programmer'] = False\n",
    "print(data_speaker)"
   ],
   "metadata": {
    "collapsed": false,
    "pycharm": {
     "name": "#%%\n"
    }
   }
  },
  {
   "cell_type": "code",
   "execution_count": 49,
   "outputs": [
    {
     "name": "stdout",
     "output_type": "stream",
     "text": [
      "{'name': 'Steve', 'surname': 'Matos Manguinuri', 'age': 24, 'is_married': False, 'tall_in_meters': 1.73, 'is_programmer': True}\n"
     ]
    }
   ],
   "source": [
    "# replace value\n",
    "data_speaker['is_programmer'] = True\n",
    "print(data_speaker)"
   ],
   "metadata": {
    "collapsed": false,
    "pycharm": {
     "name": "#%%\n"
    }
   }
  },
  {
   "cell_type": "code",
   "execution_count": 50,
   "outputs": [
    {
     "name": "stdout",
     "output_type": "stream",
     "text": [
      "dict_keys(['name', 'surname', 'age', 'is_married', 'tall_in_meters', 'is_programmer'])\n"
     ]
    }
   ],
   "source": [
    "# get keys from dictionary\n",
    "print(data_speaker.keys())"
   ],
   "metadata": {
    "collapsed": false,
    "pycharm": {
     "name": "#%%\n"
    }
   }
  },
  {
   "cell_type": "code",
   "execution_count": 51,
   "outputs": [
    {
     "name": "stdout",
     "output_type": "stream",
     "text": [
      "['name', 'surname', 'age', 'is_married', 'tall_in_meters', 'is_programmer']\n"
     ]
    }
   ],
   "source": [
    "# applying Casting\n",
    "print(list(data_speaker.keys()))"
   ],
   "metadata": {
    "collapsed": false,
    "pycharm": {
     "name": "#%%\n"
    }
   }
  },
  {
   "cell_type": "code",
   "execution_count": 52,
   "outputs": [
    {
     "name": "stdout",
     "output_type": "stream",
     "text": [
      "dict_values(['Steve', 'Matos Manguinuri', 24, False, 1.73, True])\n"
     ]
    }
   ],
   "source": [
    "# get values from dictionary\n",
    "print(data_speaker.values())"
   ],
   "metadata": {
    "collapsed": false,
    "pycharm": {
     "name": "#%%\n"
    }
   }
  },
  {
   "cell_type": "code",
   "execution_count": 53,
   "outputs": [
    {
     "name": "stdout",
     "output_type": "stream",
     "text": [
      "dict_items([('name', 'Steve'), ('surname', 'Matos Manguinuri'), ('age', 24), ('is_married', False), ('tall_in_meters', 1.73), ('is_programmer', True)])\n"
     ]
    }
   ],
   "source": [
    "# convert dictionary to list of tuples\n",
    "print(data_speaker.items())"
   ],
   "metadata": {
    "collapsed": false,
    "pycharm": {
     "name": "#%%\n"
    }
   }
  },
  {
   "cell_type": "code",
   "execution_count": 54,
   "outputs": [
    {
     "name": "stdout",
     "output_type": "stream",
     "text": [
      "{'name': 'Steve Sader', 'surname': 'Matos Manguinuri', 'age': 24, 'is_married': False, 'tall_in_meters': 1.73, 'is_programmer': True, 'is_blind': False}\n"
     ]
    }
   ],
   "source": [
    "# update multiple key:value for dictionary\n",
    "data_speaker.update({\n",
    "    'name': 'Steve Sader',\n",
    "    'is_blind': False\n",
    "})\n",
    "print(data_speaker)"
   ],
   "metadata": {
    "collapsed": false,
    "pycharm": {
     "name": "#%%\n"
    }
   }
  }
 ],
 "metadata": {
  "kernelspec": {
   "display_name": "Python 3",
   "language": "python",
   "name": "python3"
  },
  "language_info": {
   "codemirror_mode": {
    "name": "ipython",
    "version": 2
   },
   "file_extension": ".py",
   "mimetype": "text/x-python",
   "name": "python",
   "nbconvert_exporter": "python",
   "pygments_lexer": "ipython2",
   "version": "2.7.6"
  }
 },
 "nbformat": 4,
 "nbformat_minor": 0
}